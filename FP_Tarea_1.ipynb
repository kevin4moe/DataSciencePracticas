{
  "nbformat": 4,
  "nbformat_minor": 0,
  "metadata": {
    "colab": {
      "provenance": [],
      "toc_visible": true,
      "authorship_tag": "ABX9TyOCoJ421CFHynvahXLfED10",
      "include_colab_link": true
    },
    "kernelspec": {
      "name": "python3",
      "display_name": "Python 3"
    },
    "language_info": {
      "name": "python"
    }
  },
  "cells": [
    {
      "cell_type": "markdown",
      "metadata": {
        "id": "view-in-github",
        "colab_type": "text"
      },
      "source": [
        "<a href=\"https://colab.research.google.com/github/kevin4moe/DataSciencePracticas/blob/main/FP_Tarea_1.ipynb\" target=\"_parent\"><img src=\"https://colab.research.google.com/assets/colab-badge.svg\" alt=\"Open In Colab\"/></a>"
      ]
    },
    {
      "cell_type": "code",
      "execution_count": null,
      "metadata": {
        "id": "UQNc5Ylqnv4S"
      },
      "outputs": [],
      "source": [
        "import pandas as pd\n",
        "import numpy as np"
      ]
    },
    {
      "cell_type": "markdown",
      "source": [
        "# Problema 1\n",
        "Construya una matriz cuadrada de dimensión 10 cuyos elemenstos satisfagan las consiciones"
      ],
      "metadata": {
        "id": "DLEoYhGRrD16"
      }
    },
    {
      "cell_type": "code",
      "source": [
        "# Definimos el tamaño de la matriz\n",
        "n = 10\n",
        "\n",
        "# Creamos una matriz de ceros nxn\n",
        "A = np.zeros((n, n), dtype=int)\n",
        "\n",
        "# Siguiente las condiciones creamos rellenamos la matriz\n",
        "for i in range(n):\n",
        "    for j in range(n):\n",
        "        A[i, j] = j - i + 1 # Las variables i y j empiezan en 0, por eso debemos sumar 1 para cumplir con A_{1,1}=1\n",
        "\n",
        "print(\"Matrix A:\")\n",
        "print(A)"
      ],
      "metadata": {
        "colab": {
          "base_uri": "https://localhost:8080/"
        },
        "id": "_EiVB1Znn8I5",
        "outputId": "e32ac5f1-9a86-45ef-dc14-ba26d9d82e93"
      },
      "execution_count": null,
      "outputs": [
        {
          "output_type": "stream",
          "name": "stdout",
          "text": [
            "Matrix A:\n",
            "[[ 1  2  3  4  5  6  7  8  9]\n",
            " [ 0  1  2  3  4  5  6  7  8]\n",
            " [-1  0  1  2  3  4  5  6  7]\n",
            " [-2 -1  0  1  2  3  4  5  6]\n",
            " [-3 -2 -1  0  1  2  3  4  5]\n",
            " [-4 -3 -2 -1  0  1  2  3  4]\n",
            " [-5 -4 -3 -2 -1  0  1  2  3]\n",
            " [-6 -5 -4 -3 -2 -1  0  1  2]\n",
            " [-7 -6 -5 -4 -3 -2 -1  0  1]]\n"
          ]
        }
      ]
    },
    {
      "cell_type": "markdown",
      "source": [
        "# Problema 2\n",
        "Construya una matriz cuadrada de dimensión n, por fijar de manera arbitraria, cuyos elementos satisfagan las condiciones"
      ],
      "metadata": {
        "id": "tcfLunNMrP0_"
      }
    },
    {
      "cell_type": "code",
      "source": [
        "from random import randint as rnd\n",
        "num = rnd(10, 20)\n",
        "print(num)"
      ],
      "metadata": {
        "colab": {
          "base_uri": "https://localhost:8080/"
        },
        "id": "2PUZ_Sq1rxAZ",
        "outputId": "66eec3e5-25bc-4d98-9ca5-2d35f6645441"
      },
      "execution_count": null,
      "outputs": [
        {
          "output_type": "stream",
          "name": "stdout",
          "text": [
            "12\n"
          ]
        }
      ]
    },
    {
      "cell_type": "code",
      "source": [
        "from random import randint as rnd\n",
        "import numpy as np\n",
        "\n",
        "# Creamos un número pseudo aleatorio del 10 al 20\n",
        "num = rnd(10, 20)\n",
        "\n",
        "# Definimos el tamaño de la matriz\n",
        "n = num\n",
        "\n",
        "# Creamos una matriz de ceros nxn\n",
        "A = np.zeros((n, n), dtype=int)\n",
        "\n",
        "# Siguiente las condiciones creamos rellenamos la matriz\n",
        "for i in range(n):\n",
        "    for j in range(n):\n",
        "        A[i, j] = j - i + 1 # Las variables i y j empiezan en 0, por eso debemos sumar 1 para cumplir con A_{1,1}=1\n",
        "\n",
        "print(f\"Matrix A {n}x{n}:\")\n",
        "print(A)"
      ],
      "metadata": {
        "colab": {
          "base_uri": "https://localhost:8080/"
        },
        "id": "vDzIxjg2q0Ix",
        "outputId": "64251f2b-801f-4862-e931-0443b7063c46"
      },
      "execution_count": null,
      "outputs": [
        {
          "output_type": "stream",
          "name": "stdout",
          "text": [
            "Matrix A 15x15:\n",
            "[[  1   2   3   4   5   6   7   8   9  10  11  12  13  14  15]\n",
            " [  0   1   2   3   4   5   6   7   8   9  10  11  12  13  14]\n",
            " [ -1   0   1   2   3   4   5   6   7   8   9  10  11  12  13]\n",
            " [ -2  -1   0   1   2   3   4   5   6   7   8   9  10  11  12]\n",
            " [ -3  -2  -1   0   1   2   3   4   5   6   7   8   9  10  11]\n",
            " [ -4  -3  -2  -1   0   1   2   3   4   5   6   7   8   9  10]\n",
            " [ -5  -4  -3  -2  -1   0   1   2   3   4   5   6   7   8   9]\n",
            " [ -6  -5  -4  -3  -2  -1   0   1   2   3   4   5   6   7   8]\n",
            " [ -7  -6  -5  -4  -3  -2  -1   0   1   2   3   4   5   6   7]\n",
            " [ -8  -7  -6  -5  -4  -3  -2  -1   0   1   2   3   4   5   6]\n",
            " [ -9  -8  -7  -6  -5  -4  -3  -2  -1   0   1   2   3   4   5]\n",
            " [-10  -9  -8  -7  -6  -5  -4  -3  -2  -1   0   1   2   3   4]\n",
            " [-11 -10  -9  -8  -7  -6  -5  -4  -3  -2  -1   0   1   2   3]\n",
            " [-12 -11 -10  -9  -8  -7  -6  -5  -4  -3  -2  -1   0   1   2]\n",
            " [-13 -12 -11 -10  -9  -8  -7  -6  -5  -4  -3  -2  -1   0   1]]\n"
          ]
        }
      ]
    },
    {
      "cell_type": "markdown",
      "source": [
        "# Problema 3\n",
        "El juego de SUDOKU consiste en rellenar una matriz de 9x9 particionada en 9 bloques o submatrices de 3x3. La meta es rellenar la matriz de tal forma que los números del 1 al 9 aparezcan solamente una vez en cada fila y en cada columna de la matriz de 9x9 y al mismo tiempo cada submatriz de 3x3 contenga los números del 1 al 9.\n",
        "\n",
        "**(a)** Proponga un algoritmo y su correspondiente código que determine si una matriz es un SUDOKU completado.\n",
        "\n",
        "**(b)** Proponga un algoritmo y su correspondiente código, que reciba una de estas matrices con una única posición sin establecer en cada fila y cada columna que será reemplazada con un cero con el objeto de identificarla."
      ],
      "metadata": {
        "id": "dkAMQVPxti3g"
      }
    },
    {
      "cell_type": "code",
      "source": [
        "def is_valid_sudoku(board):\n",
        "    # Valida que se cumpla la condición\n",
        "    def is_valid_block(block):\n",
        "        return sorted(block) == list(range(1, 10)) # Realiza una comparación entre ambas listas para verificar que el bloque en cuestion tenga cada número y solo una vez\n",
        "\n",
        "    def get_block(board, row, col):\n",
        "        # Extrae un bloque de 3x3\n",
        "        block = [] # Se guarda el bloque como una lista\n",
        "        # Calcula la posición del bloque\n",
        "        start_row, start_col = row - row % 3, col - col % 3\n",
        "        for i in range(3):\n",
        "            for j in range(3):\n",
        "                block.append(board[start_row + i][start_col + j])\n",
        "        return block\n",
        "\n",
        "    # Check all rows\n",
        "    for row in range(9):\n",
        "        if not is_valid_block(board[row]):\n",
        "            return False\n",
        "\n",
        "    # Check all columns\n",
        "    for col in range(9):\n",
        "        if not is_valid_block([board[row][col] for row in range(9)]):\n",
        "            return False\n",
        "\n",
        "    # Check all 3x3 blocks\n",
        "    for row in range(0, 9, 3):\n",
        "        for col in range(0, 9, 3):\n",
        "            if not is_valid_block(get_block(board, row, col)):\n",
        "                return False\n",
        "\n",
        "    return True\n",
        "\n",
        "# Example usage\n",
        "sudoku_board = [\n",
        "    [4, 8, 3, 2, 7, 1, 6, 9, 5],\n",
        "    [9, 7, 6, 4, 8, 5, 3, 2, 1],\n",
        "    [5, 2, 1, 3, 9, 6, 4, 7, 8],\n",
        "    [2, 9, 4, 6, 5, 8, 1, 3, 7],\n",
        "    [1, 3, 8, 9, 2, 7, 5, 6, 4],\n",
        "    [6, 5, 7, 1, 3, 4, 9, 8, 2],\n",
        "    [8, 4, 2, 5, 6, 3, 7, 1, 9],\n",
        "    [3, 1, 9, 7, 4, 2, 8, 5, 6],\n",
        "    [7, 6, 5, 8, 1, 9, 2, 4, 3],\n",
        "]\n",
        "\n",
        "print(is_valid_sudoku(sudoku_board))  # Output: True"
      ],
      "metadata": {
        "colab": {
          "base_uri": "https://localhost:8080/"
        },
        "id": "tAlaiOe37PEr",
        "outputId": "e6e49850-7334-4a2d-910c-effbf7984a26"
      },
      "execution_count": null,
      "outputs": [
        {
          "output_type": "stream",
          "name": "stdout",
          "text": [
            "True\n"
          ]
        }
      ]
    },
    {
      "cell_type": "markdown",
      "source": [
        "# Problema 4"
      ],
      "metadata": {
        "id": "s2t1TGRcL5Tk"
      }
    },
    {
      "cell_type": "code",
      "source": [
        "from random import randint as rnd\n",
        "import pandas as pd\n",
        "import numpy as np\n",
        "\n",
        "def dice_roll(n):\n",
        "    df = pd.DataFrame(columns=['Dice 1', 'Dice 2', 'Dice 3'])\n",
        "\n",
        "    for i in range(n):\n",
        "        # Creamos un número pseudo aleatorio del 1 al 6\n",
        "        df = df._append({'Dice 1': rnd(1, 6), 'Dice 2': rnd(1, 6), 'Dice 3': rnd(1, 6)}, ignore_index=True)\n",
        "\n",
        "    return df"
      ],
      "metadata": {
        "id": "pdzm3KsNL4Bo"
      },
      "execution_count": null,
      "outputs": []
    },
    {
      "cell_type": "code",
      "source": [
        "n = 1000\n",
        "df = dice_roll(n)\n",
        "\n",
        "# Crea una tercer columna que compare los datos de los tres dados\n",
        "df['Same'] = (df['Dice 1'] == df['Dice 2']) & (df['Dice 1'] == df['Dice 3'] )\n",
        "\n",
        "# Calculamos el numero de eventos identicos\n",
        "test_mil = np.where(df['Same'] == True)[0].size\n",
        "test_mil = (n - test_mil)/n\n",
        "\n",
        "print(f'Probabilidad de que los tres eventos sean distintos: {test_mil}%')"
      ],
      "metadata": {
        "colab": {
          "base_uri": "https://localhost:8080/"
        },
        "id": "P4KCJ63AN0kq",
        "outputId": "eb4604e5-77bd-421c-afac-0debd28cf5d0"
      },
      "execution_count": null,
      "outputs": [
        {
          "output_type": "stream",
          "name": "stdout",
          "text": [
            "Probabilidad de que los tres eventos sean distintos: 0.971%\n"
          ]
        }
      ]
    },
    {
      "cell_type": "code",
      "source": [
        "n = 100000\n",
        "df = dice_roll(n)\n",
        "\n",
        "# Crea una tercer columna que compare los datos de los tres dados\n",
        "df['Same'] = (df['Dice 1'] == df['Dice 2']) & (df['Dice 1'] == df['Dice 3'] )\n",
        "\n",
        "# Calculamos el numero de eventos identicos\n",
        "test_mil = np.where(df['Same'] == True)[0].size\n",
        "test_mil = (n - test_mil)/n\n",
        "\n",
        "print(f'Probabilidad de que los tres eventos sean distintos: {test_mil}%')"
      ],
      "metadata": {
        "colab": {
          "base_uri": "https://localhost:8080/"
        },
        "id": "v2OsJHaDQVHf",
        "outputId": "ea04e88b-fb6c-423a-987f-b4e307a2701a"
      },
      "execution_count": null,
      "outputs": [
        {
          "output_type": "stream",
          "name": "stdout",
          "text": [
            "Probabilidad de que los tres eventos sean distintos: 0.97246%\n"
          ]
        }
      ]
    },
    {
      "cell_type": "markdown",
      "source": [
        "# Problema 5"
      ],
      "metadata": {
        "id": "qJQpSHqiQn6R"
      }
    },
    {
      "cell_type": "code",
      "source": [
        "from random import randint as rnd\n",
        "import pandas as pd\n",
        "import numpy as np\n",
        "\n",
        "def door_game():\n",
        "    doors = [1, 2, 3]\n",
        "    price_door = rnd(1, 3)\n",
        "    random_dude_option = rnd(1, 3)\n",
        "\n",
        "    doors.remove(price_door)\n",
        "\n",
        "    if price_door == random_dude_option:\n",
        "        doors.remove(doors[rnd(0,1)])\n",
        "    else:\n",
        "        doors.remove(random_dude_option)\n",
        "\n",
        "    return [doors[0], random_dude_option, price_door]\n",
        "\n"
      ],
      "metadata": {
        "id": "64hIkZOxQhiN"
      },
      "execution_count": null,
      "outputs": []
    },
    {
      "cell_type": "code",
      "source": [
        "n = 1000000\n",
        "games = np.array([door_game() for i in range(n)])\n",
        "\n",
        "df = pd.DataFrame(data=games, columns=['Puerta Abierta', 'Primera Puerta Selecionada', 'Puerta Ganadora'])\n",
        "df"
      ],
      "metadata": {
        "colab": {
          "base_uri": "https://localhost:8080/",
          "height": 424
        },
        "id": "dtt659tAUAF5",
        "outputId": "9177f9ea-fd64-45b3-b416-f51afa1e0ae0"
      },
      "execution_count": null,
      "outputs": [
        {
          "output_type": "execute_result",
          "data": {
            "text/plain": [
              "        Puerta Abierta  Primera Puerta Selecionada  Puerta Ganadora\n",
              "0                    3                           2                1\n",
              "1                    3                           2                1\n",
              "2                    3                           1                1\n",
              "3                    1                           2                3\n",
              "4                    1                           2                2\n",
              "...                ...                         ...              ...\n",
              "999995               3                           2                1\n",
              "999996               2                           3                1\n",
              "999997               2                           1                3\n",
              "999998               2                           1                1\n",
              "999999               2                           3                3\n",
              "\n",
              "[1000000 rows x 3 columns]"
            ],
            "text/html": [
              "\n",
              "  <div id=\"df-3a176b15-26bd-486a-b191-60c8f3306fa8\" class=\"colab-df-container\">\n",
              "    <div>\n",
              "<style scoped>\n",
              "    .dataframe tbody tr th:only-of-type {\n",
              "        vertical-align: middle;\n",
              "    }\n",
              "\n",
              "    .dataframe tbody tr th {\n",
              "        vertical-align: top;\n",
              "    }\n",
              "\n",
              "    .dataframe thead th {\n",
              "        text-align: right;\n",
              "    }\n",
              "</style>\n",
              "<table border=\"1\" class=\"dataframe\">\n",
              "  <thead>\n",
              "    <tr style=\"text-align: right;\">\n",
              "      <th></th>\n",
              "      <th>Puerta Abierta</th>\n",
              "      <th>Primera Puerta Selecionada</th>\n",
              "      <th>Puerta Ganadora</th>\n",
              "    </tr>\n",
              "  </thead>\n",
              "  <tbody>\n",
              "    <tr>\n",
              "      <th>0</th>\n",
              "      <td>3</td>\n",
              "      <td>2</td>\n",
              "      <td>1</td>\n",
              "    </tr>\n",
              "    <tr>\n",
              "      <th>1</th>\n",
              "      <td>3</td>\n",
              "      <td>2</td>\n",
              "      <td>1</td>\n",
              "    </tr>\n",
              "    <tr>\n",
              "      <th>2</th>\n",
              "      <td>3</td>\n",
              "      <td>1</td>\n",
              "      <td>1</td>\n",
              "    </tr>\n",
              "    <tr>\n",
              "      <th>3</th>\n",
              "      <td>1</td>\n",
              "      <td>2</td>\n",
              "      <td>3</td>\n",
              "    </tr>\n",
              "    <tr>\n",
              "      <th>4</th>\n",
              "      <td>1</td>\n",
              "      <td>2</td>\n",
              "      <td>2</td>\n",
              "    </tr>\n",
              "    <tr>\n",
              "      <th>...</th>\n",
              "      <td>...</td>\n",
              "      <td>...</td>\n",
              "      <td>...</td>\n",
              "    </tr>\n",
              "    <tr>\n",
              "      <th>999995</th>\n",
              "      <td>3</td>\n",
              "      <td>2</td>\n",
              "      <td>1</td>\n",
              "    </tr>\n",
              "    <tr>\n",
              "      <th>999996</th>\n",
              "      <td>2</td>\n",
              "      <td>3</td>\n",
              "      <td>1</td>\n",
              "    </tr>\n",
              "    <tr>\n",
              "      <th>999997</th>\n",
              "      <td>2</td>\n",
              "      <td>1</td>\n",
              "      <td>3</td>\n",
              "    </tr>\n",
              "    <tr>\n",
              "      <th>999998</th>\n",
              "      <td>2</td>\n",
              "      <td>1</td>\n",
              "      <td>1</td>\n",
              "    </tr>\n",
              "    <tr>\n",
              "      <th>999999</th>\n",
              "      <td>2</td>\n",
              "      <td>3</td>\n",
              "      <td>3</td>\n",
              "    </tr>\n",
              "  </tbody>\n",
              "</table>\n",
              "<p>1000000 rows × 3 columns</p>\n",
              "</div>\n",
              "    <div class=\"colab-df-buttons\">\n",
              "\n",
              "  <div class=\"colab-df-container\">\n",
              "    <button class=\"colab-df-convert\" onclick=\"convertToInteractive('df-3a176b15-26bd-486a-b191-60c8f3306fa8')\"\n",
              "            title=\"Convert this dataframe to an interactive table.\"\n",
              "            style=\"display:none;\">\n",
              "\n",
              "  <svg xmlns=\"http://www.w3.org/2000/svg\" height=\"24px\" viewBox=\"0 -960 960 960\">\n",
              "    <path d=\"M120-120v-720h720v720H120Zm60-500h600v-160H180v160Zm220 220h160v-160H400v160Zm0 220h160v-160H400v160ZM180-400h160v-160H180v160Zm440 0h160v-160H620v160ZM180-180h160v-160H180v160Zm440 0h160v-160H620v160Z\"/>\n",
              "  </svg>\n",
              "    </button>\n",
              "\n",
              "  <style>\n",
              "    .colab-df-container {\n",
              "      display:flex;\n",
              "      gap: 12px;\n",
              "    }\n",
              "\n",
              "    .colab-df-convert {\n",
              "      background-color: #E8F0FE;\n",
              "      border: none;\n",
              "      border-radius: 50%;\n",
              "      cursor: pointer;\n",
              "      display: none;\n",
              "      fill: #1967D2;\n",
              "      height: 32px;\n",
              "      padding: 0 0 0 0;\n",
              "      width: 32px;\n",
              "    }\n",
              "\n",
              "    .colab-df-convert:hover {\n",
              "      background-color: #E2EBFA;\n",
              "      box-shadow: 0px 1px 2px rgba(60, 64, 67, 0.3), 0px 1px 3px 1px rgba(60, 64, 67, 0.15);\n",
              "      fill: #174EA6;\n",
              "    }\n",
              "\n",
              "    .colab-df-buttons div {\n",
              "      margin-bottom: 4px;\n",
              "    }\n",
              "\n",
              "    [theme=dark] .colab-df-convert {\n",
              "      background-color: #3B4455;\n",
              "      fill: #D2E3FC;\n",
              "    }\n",
              "\n",
              "    [theme=dark] .colab-df-convert:hover {\n",
              "      background-color: #434B5C;\n",
              "      box-shadow: 0px 1px 3px 1px rgba(0, 0, 0, 0.15);\n",
              "      filter: drop-shadow(0px 1px 2px rgba(0, 0, 0, 0.3));\n",
              "      fill: #FFFFFF;\n",
              "    }\n",
              "  </style>\n",
              "\n",
              "    <script>\n",
              "      const buttonEl =\n",
              "        document.querySelector('#df-3a176b15-26bd-486a-b191-60c8f3306fa8 button.colab-df-convert');\n",
              "      buttonEl.style.display =\n",
              "        google.colab.kernel.accessAllowed ? 'block' : 'none';\n",
              "\n",
              "      async function convertToInteractive(key) {\n",
              "        const element = document.querySelector('#df-3a176b15-26bd-486a-b191-60c8f3306fa8');\n",
              "        const dataTable =\n",
              "          await google.colab.kernel.invokeFunction('convertToInteractive',\n",
              "                                                    [key], {});\n",
              "        if (!dataTable) return;\n",
              "\n",
              "        const docLinkHtml = 'Like what you see? Visit the ' +\n",
              "          '<a target=\"_blank\" href=https://colab.research.google.com/notebooks/data_table.ipynb>data table notebook</a>'\n",
              "          + ' to learn more about interactive tables.';\n",
              "        element.innerHTML = '';\n",
              "        dataTable['output_type'] = 'display_data';\n",
              "        await google.colab.output.renderOutput(dataTable, element);\n",
              "        const docLink = document.createElement('div');\n",
              "        docLink.innerHTML = docLinkHtml;\n",
              "        element.appendChild(docLink);\n",
              "      }\n",
              "    </script>\n",
              "  </div>\n",
              "\n",
              "\n",
              "<div id=\"df-30c0629a-c4d4-486b-8df5-4e9e60971cf7\">\n",
              "  <button class=\"colab-df-quickchart\" onclick=\"quickchart('df-30c0629a-c4d4-486b-8df5-4e9e60971cf7')\"\n",
              "            title=\"Suggest charts\"\n",
              "            style=\"display:none;\">\n",
              "\n",
              "<svg xmlns=\"http://www.w3.org/2000/svg\" height=\"24px\"viewBox=\"0 0 24 24\"\n",
              "     width=\"24px\">\n",
              "    <g>\n",
              "        <path d=\"M19 3H5c-1.1 0-2 .9-2 2v14c0 1.1.9 2 2 2h14c1.1 0 2-.9 2-2V5c0-1.1-.9-2-2-2zM9 17H7v-7h2v7zm4 0h-2V7h2v10zm4 0h-2v-4h2v4z\"/>\n",
              "    </g>\n",
              "</svg>\n",
              "  </button>\n",
              "\n",
              "<style>\n",
              "  .colab-df-quickchart {\n",
              "      --bg-color: #E8F0FE;\n",
              "      --fill-color: #1967D2;\n",
              "      --hover-bg-color: #E2EBFA;\n",
              "      --hover-fill-color: #174EA6;\n",
              "      --disabled-fill-color: #AAA;\n",
              "      --disabled-bg-color: #DDD;\n",
              "  }\n",
              "\n",
              "  [theme=dark] .colab-df-quickchart {\n",
              "      --bg-color: #3B4455;\n",
              "      --fill-color: #D2E3FC;\n",
              "      --hover-bg-color: #434B5C;\n",
              "      --hover-fill-color: #FFFFFF;\n",
              "      --disabled-bg-color: #3B4455;\n",
              "      --disabled-fill-color: #666;\n",
              "  }\n",
              "\n",
              "  .colab-df-quickchart {\n",
              "    background-color: var(--bg-color);\n",
              "    border: none;\n",
              "    border-radius: 50%;\n",
              "    cursor: pointer;\n",
              "    display: none;\n",
              "    fill: var(--fill-color);\n",
              "    height: 32px;\n",
              "    padding: 0;\n",
              "    width: 32px;\n",
              "  }\n",
              "\n",
              "  .colab-df-quickchart:hover {\n",
              "    background-color: var(--hover-bg-color);\n",
              "    box-shadow: 0 1px 2px rgba(60, 64, 67, 0.3), 0 1px 3px 1px rgba(60, 64, 67, 0.15);\n",
              "    fill: var(--button-hover-fill-color);\n",
              "  }\n",
              "\n",
              "  .colab-df-quickchart-complete:disabled,\n",
              "  .colab-df-quickchart-complete:disabled:hover {\n",
              "    background-color: var(--disabled-bg-color);\n",
              "    fill: var(--disabled-fill-color);\n",
              "    box-shadow: none;\n",
              "  }\n",
              "\n",
              "  .colab-df-spinner {\n",
              "    border: 2px solid var(--fill-color);\n",
              "    border-color: transparent;\n",
              "    border-bottom-color: var(--fill-color);\n",
              "    animation:\n",
              "      spin 1s steps(1) infinite;\n",
              "  }\n",
              "\n",
              "  @keyframes spin {\n",
              "    0% {\n",
              "      border-color: transparent;\n",
              "      border-bottom-color: var(--fill-color);\n",
              "      border-left-color: var(--fill-color);\n",
              "    }\n",
              "    20% {\n",
              "      border-color: transparent;\n",
              "      border-left-color: var(--fill-color);\n",
              "      border-top-color: var(--fill-color);\n",
              "    }\n",
              "    30% {\n",
              "      border-color: transparent;\n",
              "      border-left-color: var(--fill-color);\n",
              "      border-top-color: var(--fill-color);\n",
              "      border-right-color: var(--fill-color);\n",
              "    }\n",
              "    40% {\n",
              "      border-color: transparent;\n",
              "      border-right-color: var(--fill-color);\n",
              "      border-top-color: var(--fill-color);\n",
              "    }\n",
              "    60% {\n",
              "      border-color: transparent;\n",
              "      border-right-color: var(--fill-color);\n",
              "    }\n",
              "    80% {\n",
              "      border-color: transparent;\n",
              "      border-right-color: var(--fill-color);\n",
              "      border-bottom-color: var(--fill-color);\n",
              "    }\n",
              "    90% {\n",
              "      border-color: transparent;\n",
              "      border-bottom-color: var(--fill-color);\n",
              "    }\n",
              "  }\n",
              "</style>\n",
              "\n",
              "  <script>\n",
              "    async function quickchart(key) {\n",
              "      const quickchartButtonEl =\n",
              "        document.querySelector('#' + key + ' button');\n",
              "      quickchartButtonEl.disabled = true;  // To prevent multiple clicks.\n",
              "      quickchartButtonEl.classList.add('colab-df-spinner');\n",
              "      try {\n",
              "        const charts = await google.colab.kernel.invokeFunction(\n",
              "            'suggestCharts', [key], {});\n",
              "      } catch (error) {\n",
              "        console.error('Error during call to suggestCharts:', error);\n",
              "      }\n",
              "      quickchartButtonEl.classList.remove('colab-df-spinner');\n",
              "      quickchartButtonEl.classList.add('colab-df-quickchart-complete');\n",
              "    }\n",
              "    (() => {\n",
              "      let quickchartButtonEl =\n",
              "        document.querySelector('#df-30c0629a-c4d4-486b-8df5-4e9e60971cf7 button');\n",
              "      quickchartButtonEl.style.display =\n",
              "        google.colab.kernel.accessAllowed ? 'block' : 'none';\n",
              "    })();\n",
              "  </script>\n",
              "</div>\n",
              "\n",
              "  <div id=\"id_68c46ef9-5888-4a24-b8d7-6c6a55af497f\">\n",
              "    <style>\n",
              "      .colab-df-generate {\n",
              "        background-color: #E8F0FE;\n",
              "        border: none;\n",
              "        border-radius: 50%;\n",
              "        cursor: pointer;\n",
              "        display: none;\n",
              "        fill: #1967D2;\n",
              "        height: 32px;\n",
              "        padding: 0 0 0 0;\n",
              "        width: 32px;\n",
              "      }\n",
              "\n",
              "      .colab-df-generate:hover {\n",
              "        background-color: #E2EBFA;\n",
              "        box-shadow: 0px 1px 2px rgba(60, 64, 67, 0.3), 0px 1px 3px 1px rgba(60, 64, 67, 0.15);\n",
              "        fill: #174EA6;\n",
              "      }\n",
              "\n",
              "      [theme=dark] .colab-df-generate {\n",
              "        background-color: #3B4455;\n",
              "        fill: #D2E3FC;\n",
              "      }\n",
              "\n",
              "      [theme=dark] .colab-df-generate:hover {\n",
              "        background-color: #434B5C;\n",
              "        box-shadow: 0px 1px 3px 1px rgba(0, 0, 0, 0.15);\n",
              "        filter: drop-shadow(0px 1px 2px rgba(0, 0, 0, 0.3));\n",
              "        fill: #FFFFFF;\n",
              "      }\n",
              "    </style>\n",
              "    <button class=\"colab-df-generate\" onclick=\"generateWithVariable('df')\"\n",
              "            title=\"Generate code using this dataframe.\"\n",
              "            style=\"display:none;\">\n",
              "\n",
              "  <svg xmlns=\"http://www.w3.org/2000/svg\" height=\"24px\"viewBox=\"0 0 24 24\"\n",
              "       width=\"24px\">\n",
              "    <path d=\"M7,19H8.4L18.45,9,17,7.55,7,17.6ZM5,21V16.75L18.45,3.32a2,2,0,0,1,2.83,0l1.4,1.43a1.91,1.91,0,0,1,.58,1.4,1.91,1.91,0,0,1-.58,1.4L9.25,21ZM18.45,9,17,7.55Zm-12,3A5.31,5.31,0,0,0,4.9,8.1,5.31,5.31,0,0,0,1,6.5,5.31,5.31,0,0,0,4.9,4.9,5.31,5.31,0,0,0,6.5,1,5.31,5.31,0,0,0,8.1,4.9,5.31,5.31,0,0,0,12,6.5,5.46,5.46,0,0,0,6.5,12Z\"/>\n",
              "  </svg>\n",
              "    </button>\n",
              "    <script>\n",
              "      (() => {\n",
              "      const buttonEl =\n",
              "        document.querySelector('#id_68c46ef9-5888-4a24-b8d7-6c6a55af497f button.colab-df-generate');\n",
              "      buttonEl.style.display =\n",
              "        google.colab.kernel.accessAllowed ? 'block' : 'none';\n",
              "\n",
              "      buttonEl.onclick = () => {\n",
              "        google.colab.notebook.generateWithVariable('df');\n",
              "      }\n",
              "      })();\n",
              "    </script>\n",
              "  </div>\n",
              "\n",
              "    </div>\n",
              "  </div>\n"
            ],
            "application/vnd.google.colaboratory.intrinsic+json": {
              "type": "dataframe",
              "variable_name": "df"
            }
          },
          "metadata": {},
          "execution_count": 49
        }
      ]
    },
    {
      "cell_type": "code",
      "source": [
        "df['Gana?'] = (df['Primera Puerta Selecionada'] == df['Puerta Ganadora'] )\n",
        "\n",
        "test = np.where(df['Gana?'] == True)[0].size\n",
        "\n",
        "print(f'Probabilidad de ganar si no cambia la puerta que eliguió primero: {(test)/n}%')\n",
        "print(f'Probabilidad de ganar si cambia la puerta que eliguió primero: {(n - test)/n}%')"
      ],
      "metadata": {
        "colab": {
          "base_uri": "https://localhost:8080/"
        },
        "id": "auvouLXtUayz",
        "outputId": "00f1ff5a-d7f6-42db-9523-218ed5d9760b"
      },
      "execution_count": null,
      "outputs": [
        {
          "output_type": "stream",
          "name": "stdout",
          "text": [
            "Probabilidad de ganar si no cambia la puerta que eliguió primero: 0.333723%\n",
            "Probabilidad de ganar si cambia la puerta que eliguió primero: 0.666277%\n"
          ]
        }
      ]
    }
  ]
}